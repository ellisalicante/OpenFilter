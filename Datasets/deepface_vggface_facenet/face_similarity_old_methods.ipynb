{
  "cells": [
    {
      "cell_type": "code",
      "execution_count": null,
      "metadata": {
        "colab": {
          "background_save": true
        },
        "id": "ynnrkUoF8fPk"
      },
      "outputs": [],
      "source": [
        "!pip install deepface"
      ]
    },
    {
      "cell_type": "code",
      "execution_count": null,
      "metadata": {
        "colab": {
          "base_uri": "https://localhost:8080/"
        },
        "id": "YLL6Wnn48wNH",
        "outputId": "d4f3a365-cfc1-466a-caf9-01c30cfb81c8"
      },
      "outputs": [
        {
          "name": "stdout",
          "output_type": "stream",
          "text": [
            "Directory  /root /.deepface created\n",
            "Directory  /root /.deepface/weights created\n"
          ]
        }
      ],
      "source": [
        "from deepface import DeepFace"
      ]
    },
    {
      "cell_type": "markdown",
      "metadata": {
        "id": "_4-tYQeeP6oA"
      },
      "source": [
        "### Take any couple of images and compare them in all cases (beautified, real, modified)"
      ]
    },
    {
      "cell_type": "code",
      "execution_count": null,
      "metadata": {
        "id": "PcW22EUjT9-R"
      },
      "outputs": [],
      "source": [
        "import numpy as np\n",
        "import os\n",
        "import pandas as pd\n",
        "import seaborn as sns\n",
        "import matplotlib.pyplot as plt\n",
        "\n",
        "import random\n",
        "\n",
        "from PIL import Image, ImageFilter"
      ]
    },
    {
      "cell_type": "code",
      "execution_count": null,
      "metadata": {
        "id": "q7ZMKppxsz1K"
      },
      "outputs": [],
      "source": [
        "def rescale(data):\n",
        "    return ((np.array(data) - np.min(data)) / (np.max(data) - np.min(data))).tolist()"
      ]
    },
    {
      "cell_type": "code",
      "execution_count": null,
      "metadata": {
        "id": "DctYNUSKDREB"
      },
      "outputs": [],
      "source": [
        "df_dict = {}"
      ]
    },
    {
      "cell_type": "code",
      "source": [
        "original_folder_b = #this is your path to FairBeauty (to make it easier, move all the images in the subfolders to the main dir)\n",
        "original_folder = #this is your path to FairFaces"
      ],
      "metadata": {
        "id": "9iYuxXNs6LhL"
      },
      "execution_count": null,
      "outputs": []
    },
    {
      "cell_type": "code",
      "execution_count": null,
      "metadata": {
        "colab": {
          "background_save": true
        },
        "id": "UW662ac1VWdd"
      },
      "outputs": [],
      "source": [
        "!mkdir /content/low_resolution\n",
        "!mkdir /content/low_resolution_2\n",
        "\n",
        "models = [\"VGG-Face\", \"Facenet\", \"DeepFace\"]\n",
        "\n",
        "for model in models:\n",
        "\n",
        "  img_names = os.listdir(original_folder_b)\n",
        "\n",
        "  results_b = []\n",
        "  results = []\n",
        "  results_l = []\n",
        "  results_l2 = []\n",
        "\n",
        "  while (len(results_b)<500):\n",
        "    n1, n2 = random.sample(img_names, 2)\n",
        "    img_names.remove(n1)\n",
        "    img_names.remove(n2)\n",
        "\n",
        "    path1_b = original_folder_b+n1\n",
        "    path2_b = original_folder_b+n2\n",
        "\n",
        "    try:\n",
        "      result_b = DeepFace.verify(img1_path = path1_b, img2_path = path2_b, distance_metric=\"euclidean\", model_name=model, enforce_detection=False)\n",
        "    except ValueError as e:\n",
        "      print(e)\n",
        "      continue\n",
        "\n",
        "    path1 = original_folder+n1\n",
        "    path2 = original_folder+n2\n",
        "    \n",
        "    try:\n",
        "      result = DeepFace.verify(img1_path = path1, img2_path = path2, distance_metric=\"euclidean\", model_name=model, enforce_detection=False)\n",
        "    except ValueError as e:\n",
        "      print(e)\n",
        "      continue\n",
        "\n",
        "    img1 = Image.open(path1)\n",
        "    low_path1 = \"./low_resolution/0\"+n1.split('.')[0]+\".jpg\"\n",
        "    img1.filter(ImageFilter.GaussianBlur(2)).save(low_path1)\n",
        "\n",
        "    img2 = Image.open(path2)\n",
        "    low_path2 = \"./low_resolution/0\"+n2.split('.')[0]+\".jpg\"\n",
        "    img2.filter(ImageFilter.GaussianBlur(2)).save(low_path2)\n",
        "\n",
        "    try:\n",
        "      result_l = DeepFace.verify(img1_path = low_path1, img2_path = low_path2, distance_metric=\"euclidean\", model_name=model, enforce_detection=False)\n",
        "    except ValueError as e:\n",
        "      print(e)\n",
        "      continue\n",
        "\n",
        "    low_path3 = \"/content/low_resolution_2/0\"+n1.split('.')[0]+\".jpg\"\n",
        "    img1.filter(ImageFilter.GaussianBlur(3)).save(low_path3)\n",
        "    #img1.resize((64, 64), resample=Image.BILINEAR).resize(img1.size,Image.NEAREST).save(low_path3)\n",
        "\n",
        "    low_path4 = \"/content/low_resolution_2/0\"+n2.split('.')[0]+\".jpg\"\n",
        "    img2.filter(ImageFilter.GaussianBlur(3)).save(low_path4)\n",
        "    #img2.resize((64, 64), resample=Image.BILINEAR).resize(img2.size,Image.NEAREST).save(low_path4)\n",
        "\n",
        "    try:\n",
        "      result_l2 = DeepFace.verify(img1_path = low_path3, img2_path = low_path4, distance_metric=\"euclidean_l2\", model_name=model, enforce_detection=False)\n",
        "    except ValueError as e:\n",
        "      print(e)\n",
        "      continue\n",
        "\n",
        "    results_b.append(result_b[\"distance\"])\n",
        "    results.append(result[\"distance\"])\n",
        "    results_l.append(result_l[\"distance\"])\n",
        "    results_l2.append(result_l2[\"distance\"])\n",
        "\n",
        "  df_dict[model] = rescale(results_b + results + results_l + results_l2)"
      ]
    },
    {
      "cell_type": "code",
      "execution_count": null,
      "metadata": {
        "colab": {
          "background_save": true
        },
        "id": "ru7eCTmvBsku"
      },
      "outputs": [],
      "source": [
        "type_b = [\"beauty\"] * len(results_b)\n",
        "type_o = [\"original\"] * len(results_b)\n",
        "type_l = [\"gaussian2\"] * len(results_b)\n",
        "type_l2 = [\"gaussian3\"] * len(results_b)\n",
        "df_dict[\"type\"] = type_b + type_o + type_l + type_l2"
      ]
    },
    {
      "cell_type": "code",
      "execution_count": null,
      "metadata": {
        "id": "zeYirOhwtntT"
      },
      "outputs": [],
      "source": [
        "df = pd.DataFrame.from_dict(df_dict)"
      ]
    },
    {
      "cell_type": "code",
      "execution_count": null,
      "metadata": {
        "id": "FmYr0LZFtoZE"
      },
      "outputs": [],
      "source": [
        "df"
      ]
    }
  ],
  "metadata": {
    "accelerator": "GPU",
    "colab": {
      "collapsed_sections": [],
      "name": "face_similarity_github.ipynb",
      "provenance": []
    },
    "kernelspec": {
      "display_name": "Python 3",
      "name": "python3"
    },
    "language_info": {
      "name": "python"
    }
  },
  "nbformat": 4,
  "nbformat_minor": 0
}